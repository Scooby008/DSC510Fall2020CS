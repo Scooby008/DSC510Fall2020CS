{
 "cells": [
  {
   "cell_type": "code",
   "execution_count": 1,
   "metadata": {},
   "outputs": [],
   "source": [
    "#import important packages\n",
    "from __future__ import print_function, division\n",
    "import pandas as pd\n",
    "import matplotlib.pyplot as plt\n",
    "import matplotlib.colors as mcolors\n",
    "from mpl_toolkits.mplot3d import Axes3D\n",
    "import matplotlib\n",
    "import numpy as np\n",
    "import nsfg\n",
    "import first\n",
    "import thinkstats2\n",
    "import thinkplot\n",
    "import random\n",
    "import csv"
   ]
  },
  {
   "cell_type": "code",
   "execution_count": 2,
   "metadata": {},
   "outputs": [
    {
     "data": {
      "text/html": [
       "<div>\n",
       "<style scoped>\n",
       "    .dataframe tbody tr th:only-of-type {\n",
       "        vertical-align: middle;\n",
       "    }\n",
       "\n",
       "    .dataframe tbody tr th {\n",
       "        vertical-align: top;\n",
       "    }\n",
       "\n",
       "    .dataframe thead th {\n",
       "        text-align: right;\n",
       "    }\n",
       "</style>\n",
       "<table border=\"1\" class=\"dataframe\">\n",
       "  <thead>\n",
       "    <tr style=\"text-align: right;\">\n",
       "      <th></th>\n",
       "      <th>Date</th>\n",
       "      <th>Fixed_Date</th>\n",
       "      <th>String_Date</th>\n",
       "      <th>Year</th>\n",
       "      <th>Month</th>\n",
       "      <th>Day</th>\n",
       "      <th>Full_Date</th>\n",
       "      <th>Month.1</th>\n",
       "      <th>Month_Date_Format</th>\n",
       "      <th>New Tests</th>\n",
       "      <th>Cases</th>\n",
       "      <th>Negative</th>\n",
       "      <th>Hospitalized</th>\n",
       "      <th>Deaths</th>\n",
       "      <th>Total</th>\n",
       "    </tr>\n",
       "  </thead>\n",
       "  <tbody>\n",
       "    <tr>\n",
       "      <th>0</th>\n",
       "      <td>Tue Jul 28 2020</td>\n",
       "      <td>Jul 28 2020</td>\n",
       "      <td>Jul 28 2020</td>\n",
       "      <td>2020</td>\n",
       "      <td>7</td>\n",
       "      <td>28</td>\n",
       "      <td>7/28/20</td>\n",
       "      <td>202007</td>\n",
       "      <td>7/1/20</td>\n",
       "      <td>57397</td>\n",
       "      <td>412878</td>\n",
       "      <td>5271668</td>\n",
       "      <td>89995.0</td>\n",
       "      <td>25126.0</td>\n",
       "      <td>5684546</td>\n",
       "    </tr>\n",
       "    <tr>\n",
       "      <th>1</th>\n",
       "      <td>Mon Jul 27 2020</td>\n",
       "      <td>Jul 27 2020</td>\n",
       "      <td>Jul 27 2020</td>\n",
       "      <td>2020</td>\n",
       "      <td>7</td>\n",
       "      <td>27</td>\n",
       "      <td>7/27/20</td>\n",
       "      <td>202007</td>\n",
       "      <td>7/1/20</td>\n",
       "      <td>57270</td>\n",
       "      <td>412344</td>\n",
       "      <td>5214805</td>\n",
       "      <td>89995.0</td>\n",
       "      <td>25117.0</td>\n",
       "      <td>5627149</td>\n",
       "    </tr>\n",
       "    <tr>\n",
       "      <th>2</th>\n",
       "      <td>Sun Jul 26 2020</td>\n",
       "      <td>Jul 26 2020</td>\n",
       "      <td>Jul 26 2020</td>\n",
       "      <td>2020</td>\n",
       "      <td>7</td>\n",
       "      <td>26</td>\n",
       "      <td>7/26/20</td>\n",
       "      <td>202007</td>\n",
       "      <td>7/1/20</td>\n",
       "      <td>53568</td>\n",
       "      <td>411736</td>\n",
       "      <td>5158143</td>\n",
       "      <td>89995.0</td>\n",
       "      <td>25106.0</td>\n",
       "      <td>5569879</td>\n",
       "    </tr>\n",
       "    <tr>\n",
       "      <th>3</th>\n",
       "      <td>Sat Jul 25 2020</td>\n",
       "      <td>Jul 25 2020</td>\n",
       "      <td>Jul 25 2020</td>\n",
       "      <td>2020</td>\n",
       "      <td>7</td>\n",
       "      <td>25</td>\n",
       "      <td>7/25/20</td>\n",
       "      <td>202007</td>\n",
       "      <td>7/1/20</td>\n",
       "      <td>71466</td>\n",
       "      <td>411200</td>\n",
       "      <td>5105111</td>\n",
       "      <td>89995.0</td>\n",
       "      <td>25103.0</td>\n",
       "      <td>5516311</td>\n",
       "    </tr>\n",
       "    <tr>\n",
       "      <th>4</th>\n",
       "      <td>Fri Jul 24 2020</td>\n",
       "      <td>Jul 24 2020</td>\n",
       "      <td>Jul 24 2020</td>\n",
       "      <td>2020</td>\n",
       "      <td>7</td>\n",
       "      <td>24</td>\n",
       "      <td>7/24/20</td>\n",
       "      <td>202007</td>\n",
       "      <td>7/1/20</td>\n",
       "      <td>76507</td>\n",
       "      <td>410450</td>\n",
       "      <td>5034395</td>\n",
       "      <td>89995.0</td>\n",
       "      <td>25090.0</td>\n",
       "      <td>5444845</td>\n",
       "    </tr>\n",
       "  </tbody>\n",
       "</table>\n",
       "</div>"
      ],
      "text/plain": [
       "              Date   Fixed_Date  String_Date  Year  Month  Day Full_Date  \\\n",
       "0  Tue Jul 28 2020  Jul 28 2020  Jul 28 2020  2020      7   28   7/28/20   \n",
       "1  Mon Jul 27 2020  Jul 27 2020  Jul 27 2020  2020      7   27   7/27/20   \n",
       "2  Sun Jul 26 2020  Jul 26 2020  Jul 26 2020  2020      7   26   7/26/20   \n",
       "3  Sat Jul 25 2020  Jul 25 2020  Jul 25 2020  2020      7   25   7/25/20   \n",
       "4  Fri Jul 24 2020  Jul 24 2020  Jul 24 2020  2020      7   24   7/24/20   \n",
       "\n",
       "   Month.1 Month_Date_Format  New Tests   Cases  Negative  Hospitalized  \\\n",
       "0   202007            7/1/20      57397  412878   5271668       89995.0   \n",
       "1   202007            7/1/20      57270  412344   5214805       89995.0   \n",
       "2   202007            7/1/20      53568  411736   5158143       89995.0   \n",
       "3   202007            7/1/20      71466  411200   5105111       89995.0   \n",
       "4   202007            7/1/20      76507  410450   5034395       89995.0   \n",
       "\n",
       "    Deaths    Total  \n",
       "0  25126.0  5684546  \n",
       "1  25117.0  5627149  \n",
       "2  25106.0  5569879  \n",
       "3  25103.0  5516311  \n",
       "4  25090.0  5444845  "
      ]
     },
     "execution_count": 2,
     "metadata": {},
     "output_type": "execute_result"
    }
   ],
   "source": [
    "rm_quote = lambda x: x.replace('\"', '')\n",
    "NY = pd.read_csv ('Covid_Data_NY.csv',delimiter=',',  \n",
    "     converters={'\\\"j\\\"': rm_quote, \n",
    "                 '\\\"x\\\"': rm_quote})\n",
    "NY.head()"
   ]
  },
  {
   "cell_type": "code",
   "execution_count": 3,
   "metadata": {},
   "outputs": [],
   "source": [
    "NY = NY.rename(columns={'Month.1': 'MNTH'})"
   ]
  },
  {
   "cell_type": "code",
   "execution_count": 4,
   "metadata": {},
   "outputs": [
    {
     "data": {
      "text/html": [
       "<div>\n",
       "<style scoped>\n",
       "    .dataframe tbody tr th:only-of-type {\n",
       "        vertical-align: middle;\n",
       "    }\n",
       "\n",
       "    .dataframe tbody tr th {\n",
       "        vertical-align: top;\n",
       "    }\n",
       "\n",
       "    .dataframe thead th {\n",
       "        text-align: right;\n",
       "    }\n",
       "</style>\n",
       "<table border=\"1\" class=\"dataframe\">\n",
       "  <thead>\n",
       "    <tr style=\"text-align: right;\">\n",
       "      <th></th>\n",
       "      <th>Date</th>\n",
       "      <th>Fixed_Date</th>\n",
       "      <th>String_Date</th>\n",
       "      <th>Year</th>\n",
       "      <th>Month</th>\n",
       "      <th>Day</th>\n",
       "      <th>Full_Date</th>\n",
       "      <th>MNTH</th>\n",
       "      <th>Month_Date_Format</th>\n",
       "      <th>New Tests</th>\n",
       "      <th>Cases</th>\n",
       "      <th>Negative</th>\n",
       "      <th>Hospitalized</th>\n",
       "      <th>Deaths</th>\n",
       "      <th>Total</th>\n",
       "    </tr>\n",
       "  </thead>\n",
       "  <tbody>\n",
       "    <tr>\n",
       "      <th>0</th>\n",
       "      <td>Tue Jul 28 2020</td>\n",
       "      <td>Jul 28 2020</td>\n",
       "      <td>Jul 28 2020</td>\n",
       "      <td>2020</td>\n",
       "      <td>7</td>\n",
       "      <td>28</td>\n",
       "      <td>7/28/20</td>\n",
       "      <td>202007</td>\n",
       "      <td>7/1/20</td>\n",
       "      <td>57397</td>\n",
       "      <td>412878</td>\n",
       "      <td>5271668</td>\n",
       "      <td>89995.0</td>\n",
       "      <td>25126.0</td>\n",
       "      <td>5684546</td>\n",
       "    </tr>\n",
       "    <tr>\n",
       "      <th>1</th>\n",
       "      <td>Mon Jul 27 2020</td>\n",
       "      <td>Jul 27 2020</td>\n",
       "      <td>Jul 27 2020</td>\n",
       "      <td>2020</td>\n",
       "      <td>7</td>\n",
       "      <td>27</td>\n",
       "      <td>7/27/20</td>\n",
       "      <td>202007</td>\n",
       "      <td>7/1/20</td>\n",
       "      <td>57270</td>\n",
       "      <td>412344</td>\n",
       "      <td>5214805</td>\n",
       "      <td>89995.0</td>\n",
       "      <td>25117.0</td>\n",
       "      <td>5627149</td>\n",
       "    </tr>\n",
       "    <tr>\n",
       "      <th>2</th>\n",
       "      <td>Sun Jul 26 2020</td>\n",
       "      <td>Jul 26 2020</td>\n",
       "      <td>Jul 26 2020</td>\n",
       "      <td>2020</td>\n",
       "      <td>7</td>\n",
       "      <td>26</td>\n",
       "      <td>7/26/20</td>\n",
       "      <td>202007</td>\n",
       "      <td>7/1/20</td>\n",
       "      <td>53568</td>\n",
       "      <td>411736</td>\n",
       "      <td>5158143</td>\n",
       "      <td>89995.0</td>\n",
       "      <td>25106.0</td>\n",
       "      <td>5569879</td>\n",
       "    </tr>\n",
       "    <tr>\n",
       "      <th>3</th>\n",
       "      <td>Sat Jul 25 2020</td>\n",
       "      <td>Jul 25 2020</td>\n",
       "      <td>Jul 25 2020</td>\n",
       "      <td>2020</td>\n",
       "      <td>7</td>\n",
       "      <td>25</td>\n",
       "      <td>7/25/20</td>\n",
       "      <td>202007</td>\n",
       "      <td>7/1/20</td>\n",
       "      <td>71466</td>\n",
       "      <td>411200</td>\n",
       "      <td>5105111</td>\n",
       "      <td>89995.0</td>\n",
       "      <td>25103.0</td>\n",
       "      <td>5516311</td>\n",
       "    </tr>\n",
       "    <tr>\n",
       "      <th>4</th>\n",
       "      <td>Fri Jul 24 2020</td>\n",
       "      <td>Jul 24 2020</td>\n",
       "      <td>Jul 24 2020</td>\n",
       "      <td>2020</td>\n",
       "      <td>7</td>\n",
       "      <td>24</td>\n",
       "      <td>7/24/20</td>\n",
       "      <td>202007</td>\n",
       "      <td>7/1/20</td>\n",
       "      <td>76507</td>\n",
       "      <td>410450</td>\n",
       "      <td>5034395</td>\n",
       "      <td>89995.0</td>\n",
       "      <td>25090.0</td>\n",
       "      <td>5444845</td>\n",
       "    </tr>\n",
       "  </tbody>\n",
       "</table>\n",
       "</div>"
      ],
      "text/plain": [
       "              Date   Fixed_Date  String_Date  Year  Month  Day Full_Date  \\\n",
       "0  Tue Jul 28 2020  Jul 28 2020  Jul 28 2020  2020      7   28   7/28/20   \n",
       "1  Mon Jul 27 2020  Jul 27 2020  Jul 27 2020  2020      7   27   7/27/20   \n",
       "2  Sun Jul 26 2020  Jul 26 2020  Jul 26 2020  2020      7   26   7/26/20   \n",
       "3  Sat Jul 25 2020  Jul 25 2020  Jul 25 2020  2020      7   25   7/25/20   \n",
       "4  Fri Jul 24 2020  Jul 24 2020  Jul 24 2020  2020      7   24   7/24/20   \n",
       "\n",
       "     MNTH Month_Date_Format  New Tests   Cases  Negative  Hospitalized  \\\n",
       "0  202007            7/1/20      57397  412878   5271668       89995.0   \n",
       "1  202007            7/1/20      57270  412344   5214805       89995.0   \n",
       "2  202007            7/1/20      53568  411736   5158143       89995.0   \n",
       "3  202007            7/1/20      71466  411200   5105111       89995.0   \n",
       "4  202007            7/1/20      76507  410450   5034395       89995.0   \n",
       "\n",
       "    Deaths    Total  \n",
       "0  25126.0  5684546  \n",
       "1  25117.0  5627149  \n",
       "2  25106.0  5569879  \n",
       "3  25103.0  5516311  \n",
       "4  25090.0  5444845  "
      ]
     },
     "execution_count": 4,
     "metadata": {},
     "output_type": "execute_result"
    }
   ],
   "source": [
    "NY.head()"
   ]
  },
  {
   "cell_type": "code",
   "execution_count": 5,
   "metadata": {},
   "outputs": [
    {
     "data": {
      "text/plain": [
       "Date                  object\n",
       "Fixed_Date            object\n",
       "String_Date           object\n",
       "Year                   int64\n",
       "Month                  int64\n",
       "Day                    int64\n",
       "Full_Date             object\n",
       "MNTH                   int64\n",
       "Month_Date_Format     object\n",
       "New Tests              int64\n",
       "Cases                  int64\n",
       "Negative               int64\n",
       "Hospitalized         float64\n",
       "Deaths               float64\n",
       "Total                  int64\n",
       "dtype: object"
      ]
     },
     "execution_count": 5,
     "metadata": {},
     "output_type": "execute_result"
    }
   ],
   "source": [
    "NY.dtypes"
   ]
  },
  {
   "cell_type": "code",
   "execution_count": 6,
   "metadata": {},
   "outputs": [],
   "source": [
    "NY['Full_Date'] = pd.to_datetime(NY['Full_Date'])\n",
    "NY['Month_Date_Format'] = pd.to_datetime(NY['Month_Date_Format'])"
   ]
  },
  {
   "cell_type": "code",
   "execution_count": 7,
   "metadata": {},
   "outputs": [
    {
     "data": {
      "text/html": [
       "<div>\n",
       "<style scoped>\n",
       "    .dataframe tbody tr th:only-of-type {\n",
       "        vertical-align: middle;\n",
       "    }\n",
       "\n",
       "    .dataframe tbody tr th {\n",
       "        vertical-align: top;\n",
       "    }\n",
       "\n",
       "    .dataframe thead th {\n",
       "        text-align: right;\n",
       "    }\n",
       "</style>\n",
       "<table border=\"1\" class=\"dataframe\">\n",
       "  <thead>\n",
       "    <tr style=\"text-align: right;\">\n",
       "      <th></th>\n",
       "      <th>Date</th>\n",
       "      <th>Fixed_Date</th>\n",
       "      <th>String_Date</th>\n",
       "      <th>Year</th>\n",
       "      <th>Month</th>\n",
       "      <th>Day</th>\n",
       "      <th>Full_Date</th>\n",
       "      <th>MNTH</th>\n",
       "      <th>Month_Date_Format</th>\n",
       "      <th>New Tests</th>\n",
       "      <th>Cases</th>\n",
       "      <th>Negative</th>\n",
       "      <th>Hospitalized</th>\n",
       "      <th>Deaths</th>\n",
       "      <th>Total</th>\n",
       "    </tr>\n",
       "  </thead>\n",
       "  <tbody>\n",
       "    <tr>\n",
       "      <th>0</th>\n",
       "      <td>Tue Jul 28 2020</td>\n",
       "      <td>Jul 28 2020</td>\n",
       "      <td>Jul 28 2020</td>\n",
       "      <td>2020</td>\n",
       "      <td>7</td>\n",
       "      <td>28</td>\n",
       "      <td>2020-07-28</td>\n",
       "      <td>202007</td>\n",
       "      <td>2020-07-01</td>\n",
       "      <td>57397</td>\n",
       "      <td>412878</td>\n",
       "      <td>5271668</td>\n",
       "      <td>89995.0</td>\n",
       "      <td>25126.0</td>\n",
       "      <td>5684546</td>\n",
       "    </tr>\n",
       "    <tr>\n",
       "      <th>1</th>\n",
       "      <td>Mon Jul 27 2020</td>\n",
       "      <td>Jul 27 2020</td>\n",
       "      <td>Jul 27 2020</td>\n",
       "      <td>2020</td>\n",
       "      <td>7</td>\n",
       "      <td>27</td>\n",
       "      <td>2020-07-27</td>\n",
       "      <td>202007</td>\n",
       "      <td>2020-07-01</td>\n",
       "      <td>57270</td>\n",
       "      <td>412344</td>\n",
       "      <td>5214805</td>\n",
       "      <td>89995.0</td>\n",
       "      <td>25117.0</td>\n",
       "      <td>5627149</td>\n",
       "    </tr>\n",
       "    <tr>\n",
       "      <th>2</th>\n",
       "      <td>Sun Jul 26 2020</td>\n",
       "      <td>Jul 26 2020</td>\n",
       "      <td>Jul 26 2020</td>\n",
       "      <td>2020</td>\n",
       "      <td>7</td>\n",
       "      <td>26</td>\n",
       "      <td>2020-07-26</td>\n",
       "      <td>202007</td>\n",
       "      <td>2020-07-01</td>\n",
       "      <td>53568</td>\n",
       "      <td>411736</td>\n",
       "      <td>5158143</td>\n",
       "      <td>89995.0</td>\n",
       "      <td>25106.0</td>\n",
       "      <td>5569879</td>\n",
       "    </tr>\n",
       "    <tr>\n",
       "      <th>3</th>\n",
       "      <td>Sat Jul 25 2020</td>\n",
       "      <td>Jul 25 2020</td>\n",
       "      <td>Jul 25 2020</td>\n",
       "      <td>2020</td>\n",
       "      <td>7</td>\n",
       "      <td>25</td>\n",
       "      <td>2020-07-25</td>\n",
       "      <td>202007</td>\n",
       "      <td>2020-07-01</td>\n",
       "      <td>71466</td>\n",
       "      <td>411200</td>\n",
       "      <td>5105111</td>\n",
       "      <td>89995.0</td>\n",
       "      <td>25103.0</td>\n",
       "      <td>5516311</td>\n",
       "    </tr>\n",
       "    <tr>\n",
       "      <th>4</th>\n",
       "      <td>Fri Jul 24 2020</td>\n",
       "      <td>Jul 24 2020</td>\n",
       "      <td>Jul 24 2020</td>\n",
       "      <td>2020</td>\n",
       "      <td>7</td>\n",
       "      <td>24</td>\n",
       "      <td>2020-07-24</td>\n",
       "      <td>202007</td>\n",
       "      <td>2020-07-01</td>\n",
       "      <td>76507</td>\n",
       "      <td>410450</td>\n",
       "      <td>5034395</td>\n",
       "      <td>89995.0</td>\n",
       "      <td>25090.0</td>\n",
       "      <td>5444845</td>\n",
       "    </tr>\n",
       "  </tbody>\n",
       "</table>\n",
       "</div>"
      ],
      "text/plain": [
       "              Date   Fixed_Date  String_Date  Year  Month  Day  Full_Date  \\\n",
       "0  Tue Jul 28 2020  Jul 28 2020  Jul 28 2020  2020      7   28 2020-07-28   \n",
       "1  Mon Jul 27 2020  Jul 27 2020  Jul 27 2020  2020      7   27 2020-07-27   \n",
       "2  Sun Jul 26 2020  Jul 26 2020  Jul 26 2020  2020      7   26 2020-07-26   \n",
       "3  Sat Jul 25 2020  Jul 25 2020  Jul 25 2020  2020      7   25 2020-07-25   \n",
       "4  Fri Jul 24 2020  Jul 24 2020  Jul 24 2020  2020      7   24 2020-07-24   \n",
       "\n",
       "     MNTH Month_Date_Format  New Tests   Cases  Negative  Hospitalized  \\\n",
       "0  202007        2020-07-01      57397  412878   5271668       89995.0   \n",
       "1  202007        2020-07-01      57270  412344   5214805       89995.0   \n",
       "2  202007        2020-07-01      53568  411736   5158143       89995.0   \n",
       "3  202007        2020-07-01      71466  411200   5105111       89995.0   \n",
       "4  202007        2020-07-01      76507  410450   5034395       89995.0   \n",
       "\n",
       "    Deaths    Total  \n",
       "0  25126.0  5684546  \n",
       "1  25117.0  5627149  \n",
       "2  25106.0  5569879  \n",
       "3  25103.0  5516311  \n",
       "4  25090.0  5444845  "
      ]
     },
     "execution_count": 7,
     "metadata": {},
     "output_type": "execute_result"
    }
   ],
   "source": [
    "NY.head()"
   ]
  },
  {
   "cell_type": "code",
   "execution_count": 8,
   "metadata": {},
   "outputs": [
    {
     "data": {
      "text/html": [
       "<div>\n",
       "<style scoped>\n",
       "    .dataframe tbody tr th:only-of-type {\n",
       "        vertical-align: middle;\n",
       "    }\n",
       "\n",
       "    .dataframe tbody tr th {\n",
       "        vertical-align: top;\n",
       "    }\n",
       "\n",
       "    .dataframe thead th {\n",
       "        text-align: right;\n",
       "    }\n",
       "</style>\n",
       "<table border=\"1\" class=\"dataframe\">\n",
       "  <thead>\n",
       "    <tr style=\"text-align: right;\">\n",
       "      <th></th>\n",
       "      <th>Full_Date</th>\n",
       "      <th>Month</th>\n",
       "      <th>Cases</th>\n",
       "      <th>Negative</th>\n",
       "      <th>Hospitalized</th>\n",
       "      <th>Deaths</th>\n",
       "      <th>Total</th>\n",
       "    </tr>\n",
       "  </thead>\n",
       "  <tbody>\n",
       "    <tr>\n",
       "      <th>0</th>\n",
       "      <td>2020-07-28</td>\n",
       "      <td>7</td>\n",
       "      <td>175124.0</td>\n",
       "      <td>2433528</td>\n",
       "      <td>1491.0</td>\n",
       "      <td>7462.0</td>\n",
       "      <td>2609894</td>\n",
       "    </tr>\n",
       "    <tr>\n",
       "      <th>1</th>\n",
       "      <td>2020-07-27</td>\n",
       "      <td>7</td>\n",
       "      <td>173731.0</td>\n",
       "      <td>2396734</td>\n",
       "      <td>1383.0</td>\n",
       "      <td>7446.0</td>\n",
       "      <td>2571707</td>\n",
       "    </tr>\n",
       "    <tr>\n",
       "      <th>2</th>\n",
       "      <td>2020-07-26</td>\n",
       "      <td>7</td>\n",
       "      <td>172655.0</td>\n",
       "      <td>2369479</td>\n",
       "      <td>1417.0</td>\n",
       "      <td>7416.0</td>\n",
       "      <td>2543376</td>\n",
       "    </tr>\n",
       "    <tr>\n",
       "      <th>3</th>\n",
       "      <td>2020-07-25</td>\n",
       "      <td>7</td>\n",
       "      <td>171424.0</td>\n",
       "      <td>2340143</td>\n",
       "      <td>1394.0</td>\n",
       "      <td>7398.0</td>\n",
       "      <td>2512809</td>\n",
       "    </tr>\n",
       "    <tr>\n",
       "      <th>4</th>\n",
       "      <td>2020-07-24</td>\n",
       "      <td>7</td>\n",
       "      <td>169883.0</td>\n",
       "      <td>2300840</td>\n",
       "      <td>1438.0</td>\n",
       "      <td>7397.0</td>\n",
       "      <td>2471965</td>\n",
       "    </tr>\n",
       "  </tbody>\n",
       "</table>\n",
       "</div>"
      ],
      "text/plain": [
       "   Full_Date  Month     Cases  Negative  Hospitalized  Deaths    Total\n",
       "0 2020-07-28      7  175124.0   2433528        1491.0  7462.0  2609894\n",
       "1 2020-07-27      7  173731.0   2396734        1383.0  7446.0  2571707\n",
       "2 2020-07-26      7  172655.0   2369479        1417.0  7416.0  2543376\n",
       "3 2020-07-25      7  171424.0   2340143        1394.0  7398.0  2512809\n",
       "4 2020-07-24      7  169883.0   2300840        1438.0  7397.0  2471965"
      ]
     },
     "execution_count": 8,
     "metadata": {},
     "output_type": "execute_result"
    }
   ],
   "source": [
    "IL = pd.read_csv ('Covid_Data_IL.csv')\n",
    "IL = IL.rename(columns={'Full Date': 'Full_Date'})\n",
    "IL['Full_Date'] = pd.to_datetime(IL['Full_Date'])\n",
    "IL.head()"
   ]
  },
  {
   "cell_type": "code",
   "execution_count": 9,
   "metadata": {},
   "outputs": [
    {
     "data": {
      "text/plain": [
       "Full_Date       datetime64[ns]\n",
       "Month                    int64\n",
       "Cases                  float64\n",
       "Negative                 int64\n",
       "Hospitalized           float64\n",
       "Deaths                 float64\n",
       "Total                    int64\n",
       "dtype: object"
      ]
     },
     "execution_count": 9,
     "metadata": {},
     "output_type": "execute_result"
    }
   ],
   "source": [
    "IL.dtypes"
   ]
  },
  {
   "cell_type": "code",
   "execution_count": 10,
   "metadata": {},
   "outputs": [
    {
     "name": "stdout",
     "output_type": "stream",
     "text": [
      "Full_Date\n",
      "Month\n",
      "Cases\n",
      "Negative\n",
      "Hospitalized\n",
      "Deaths\n",
      "Total\n"
     ]
    }
   ],
   "source": [
    "for col in IL:\n",
    "    print(col)"
   ]
  },
  {
   "cell_type": "code",
   "execution_count": 11,
   "metadata": {},
   "outputs": [
    {
     "data": {
      "text/html": [
       "<div>\n",
       "<style scoped>\n",
       "    .dataframe tbody tr th:only-of-type {\n",
       "        vertical-align: middle;\n",
       "    }\n",
       "\n",
       "    .dataframe tbody tr th {\n",
       "        vertical-align: top;\n",
       "    }\n",
       "\n",
       "    .dataframe thead th {\n",
       "        text-align: right;\n",
       "    }\n",
       "</style>\n",
       "<table border=\"1\" class=\"dataframe\">\n",
       "  <thead>\n",
       "    <tr style=\"text-align: right;\">\n",
       "      <th></th>\n",
       "      <th>Original_Date</th>\n",
       "      <th>Fixed_Date</th>\n",
       "      <th>String Date</th>\n",
       "      <th>Year</th>\n",
       "      <th>Month</th>\n",
       "      <th>Day</th>\n",
       "      <th>Full_Date</th>\n",
       "      <th>Month.1</th>\n",
       "      <th>Month_Date_Format</th>\n",
       "      <th>New Tests</th>\n",
       "      <th>Cases</th>\n",
       "      <th>Negative</th>\n",
       "      <th>Hospitalized</th>\n",
       "      <th>Deaths</th>\n",
       "      <th>Total</th>\n",
       "    </tr>\n",
       "  </thead>\n",
       "  <tbody>\n",
       "    <tr>\n",
       "      <th>0</th>\n",
       "      <td>Tue Jul 28 2020</td>\n",
       "      <td>Jul 28 2020</td>\n",
       "      <td>Jul 28 2020</td>\n",
       "      <td>2020</td>\n",
       "      <td>7</td>\n",
       "      <td>28</td>\n",
       "      <td>7/28/20</td>\n",
       "      <td>202007</td>\n",
       "      <td>7/1/20</td>\n",
       "      <td>12598</td>\n",
       "      <td>165934</td>\n",
       "      <td>724997</td>\n",
       "      <td>9394</td>\n",
       "      <td>3408.0</td>\n",
       "      <td>890931</td>\n",
       "    </tr>\n",
       "    <tr>\n",
       "      <th>1</th>\n",
       "      <td>Mon Jul 27 2020</td>\n",
       "      <td>Jul 27 2020</td>\n",
       "      <td>Jul 27 2020</td>\n",
       "      <td>2020</td>\n",
       "      <td>7</td>\n",
       "      <td>27</td>\n",
       "      <td>7/27/20</td>\n",
       "      <td>202007</td>\n",
       "      <td>7/1/20</td>\n",
       "      <td>11230</td>\n",
       "      <td>163827</td>\n",
       "      <td>714506</td>\n",
       "      <td>7751</td>\n",
       "      <td>3304.0</td>\n",
       "      <td>878333</td>\n",
       "    </tr>\n",
       "    <tr>\n",
       "      <th>2</th>\n",
       "      <td>Sun Jul 26 2020</td>\n",
       "      <td>Jul 26 2020</td>\n",
       "      <td>Jul 26 2020</td>\n",
       "      <td>2020</td>\n",
       "      <td>7</td>\n",
       "      <td>26</td>\n",
       "      <td>7/26/20</td>\n",
       "      <td>202007</td>\n",
       "      <td>7/1/20</td>\n",
       "      <td>9494</td>\n",
       "      <td>162014</td>\n",
       "      <td>705089</td>\n",
       "      <td>7706</td>\n",
       "      <td>3305.0</td>\n",
       "      <td>867103</td>\n",
       "    </tr>\n",
       "    <tr>\n",
       "      <th>3</th>\n",
       "      <td>Sat Jul 25 2020</td>\n",
       "      <td>Jul 25 2020</td>\n",
       "      <td>Jul 25 2020</td>\n",
       "      <td>2020</td>\n",
       "      <td>7</td>\n",
       "      <td>25</td>\n",
       "      <td>7/25/20</td>\n",
       "      <td>202007</td>\n",
       "      <td>7/1/20</td>\n",
       "      <td>20792</td>\n",
       "      <td>160041</td>\n",
       "      <td>697568</td>\n",
       "      <td>7627</td>\n",
       "      <td>3286.0</td>\n",
       "      <td>857609</td>\n",
       "    </tr>\n",
       "    <tr>\n",
       "      <th>4</th>\n",
       "      <td>Fri Jul 24 2020</td>\n",
       "      <td>Jul 24 2020</td>\n",
       "      <td>Jul 24 2020</td>\n",
       "      <td>2020</td>\n",
       "      <td>7</td>\n",
       "      <td>24</td>\n",
       "      <td>7/24/20</td>\n",
       "      <td>202007</td>\n",
       "      <td>7/1/20</td>\n",
       "      <td>14104</td>\n",
       "      <td>156301</td>\n",
       "      <td>680516</td>\n",
       "      <td>7461</td>\n",
       "      <td>3142.0</td>\n",
       "      <td>836817</td>\n",
       "    </tr>\n",
       "  </tbody>\n",
       "</table>\n",
       "</div>"
      ],
      "text/plain": [
       "     Original_Date   Fixed_Date  String Date  Year  Month  Day Full_Date  \\\n",
       "0  Tue Jul 28 2020  Jul 28 2020  Jul 28 2020  2020      7   28   7/28/20   \n",
       "1  Mon Jul 27 2020  Jul 27 2020  Jul 27 2020  2020      7   27   7/27/20   \n",
       "2  Sun Jul 26 2020  Jul 26 2020  Jul 26 2020  2020      7   26   7/26/20   \n",
       "3  Sat Jul 25 2020  Jul 25 2020  Jul 25 2020  2020      7   25   7/25/20   \n",
       "4  Fri Jul 24 2020  Jul 24 2020  Jul 24 2020  2020      7   24   7/24/20   \n",
       "\n",
       "   Month.1 Month_Date_Format  New Tests   Cases  Negative  Hospitalized  \\\n",
       "0   202007            7/1/20      12598  165934    724997          9394   \n",
       "1   202007            7/1/20      11230  163827    714506          7751   \n",
       "2   202007            7/1/20       9494  162014    705089          7706   \n",
       "3   202007            7/1/20      20792  160041    697568          7627   \n",
       "4   202007            7/1/20      14104  156301    680516          7461   \n",
       "\n",
       "   Deaths   Total  \n",
       "0  3408.0  890931  \n",
       "1  3304.0  878333  \n",
       "2  3305.0  867103  \n",
       "3  3286.0  857609  \n",
       "4  3142.0  836817  "
      ]
     },
     "execution_count": 11,
     "metadata": {},
     "output_type": "execute_result"
    }
   ],
   "source": [
    "AZ = pd.read_csv ('Covid_Data_Arizona.csv')\n",
    "AZ.head()"
   ]
  },
  {
   "cell_type": "code",
   "execution_count": 12,
   "metadata": {},
   "outputs": [],
   "source": [
    "AZ = AZ.rename(columns={'Month.1': 'MNTH'})"
   ]
  },
  {
   "cell_type": "code",
   "execution_count": 13,
   "metadata": {},
   "outputs": [
    {
     "data": {
      "text/html": [
       "<div>\n",
       "<style scoped>\n",
       "    .dataframe tbody tr th:only-of-type {\n",
       "        vertical-align: middle;\n",
       "    }\n",
       "\n",
       "    .dataframe tbody tr th {\n",
       "        vertical-align: top;\n",
       "    }\n",
       "\n",
       "    .dataframe thead th {\n",
       "        text-align: right;\n",
       "    }\n",
       "</style>\n",
       "<table border=\"1\" class=\"dataframe\">\n",
       "  <thead>\n",
       "    <tr style=\"text-align: right;\">\n",
       "      <th></th>\n",
       "      <th>Original_Date</th>\n",
       "      <th>Fixed_Date</th>\n",
       "      <th>String Date</th>\n",
       "      <th>Year</th>\n",
       "      <th>Month</th>\n",
       "      <th>Day</th>\n",
       "      <th>Full_Date</th>\n",
       "      <th>MNTH</th>\n",
       "      <th>Month_Date_Format</th>\n",
       "      <th>New Tests</th>\n",
       "      <th>Cases</th>\n",
       "      <th>Negative</th>\n",
       "      <th>Hospitalized</th>\n",
       "      <th>Deaths</th>\n",
       "      <th>Total</th>\n",
       "    </tr>\n",
       "  </thead>\n",
       "  <tbody>\n",
       "    <tr>\n",
       "      <th>0</th>\n",
       "      <td>Tue Jul 28 2020</td>\n",
       "      <td>Jul 28 2020</td>\n",
       "      <td>Jul 28 2020</td>\n",
       "      <td>2020</td>\n",
       "      <td>7</td>\n",
       "      <td>28</td>\n",
       "      <td>7/28/20</td>\n",
       "      <td>202007</td>\n",
       "      <td>7/1/20</td>\n",
       "      <td>12598</td>\n",
       "      <td>165934</td>\n",
       "      <td>724997</td>\n",
       "      <td>9394</td>\n",
       "      <td>3408.0</td>\n",
       "      <td>890931</td>\n",
       "    </tr>\n",
       "    <tr>\n",
       "      <th>1</th>\n",
       "      <td>Mon Jul 27 2020</td>\n",
       "      <td>Jul 27 2020</td>\n",
       "      <td>Jul 27 2020</td>\n",
       "      <td>2020</td>\n",
       "      <td>7</td>\n",
       "      <td>27</td>\n",
       "      <td>7/27/20</td>\n",
       "      <td>202007</td>\n",
       "      <td>7/1/20</td>\n",
       "      <td>11230</td>\n",
       "      <td>163827</td>\n",
       "      <td>714506</td>\n",
       "      <td>7751</td>\n",
       "      <td>3304.0</td>\n",
       "      <td>878333</td>\n",
       "    </tr>\n",
       "    <tr>\n",
       "      <th>2</th>\n",
       "      <td>Sun Jul 26 2020</td>\n",
       "      <td>Jul 26 2020</td>\n",
       "      <td>Jul 26 2020</td>\n",
       "      <td>2020</td>\n",
       "      <td>7</td>\n",
       "      <td>26</td>\n",
       "      <td>7/26/20</td>\n",
       "      <td>202007</td>\n",
       "      <td>7/1/20</td>\n",
       "      <td>9494</td>\n",
       "      <td>162014</td>\n",
       "      <td>705089</td>\n",
       "      <td>7706</td>\n",
       "      <td>3305.0</td>\n",
       "      <td>867103</td>\n",
       "    </tr>\n",
       "    <tr>\n",
       "      <th>3</th>\n",
       "      <td>Sat Jul 25 2020</td>\n",
       "      <td>Jul 25 2020</td>\n",
       "      <td>Jul 25 2020</td>\n",
       "      <td>2020</td>\n",
       "      <td>7</td>\n",
       "      <td>25</td>\n",
       "      <td>7/25/20</td>\n",
       "      <td>202007</td>\n",
       "      <td>7/1/20</td>\n",
       "      <td>20792</td>\n",
       "      <td>160041</td>\n",
       "      <td>697568</td>\n",
       "      <td>7627</td>\n",
       "      <td>3286.0</td>\n",
       "      <td>857609</td>\n",
       "    </tr>\n",
       "    <tr>\n",
       "      <th>4</th>\n",
       "      <td>Fri Jul 24 2020</td>\n",
       "      <td>Jul 24 2020</td>\n",
       "      <td>Jul 24 2020</td>\n",
       "      <td>2020</td>\n",
       "      <td>7</td>\n",
       "      <td>24</td>\n",
       "      <td>7/24/20</td>\n",
       "      <td>202007</td>\n",
       "      <td>7/1/20</td>\n",
       "      <td>14104</td>\n",
       "      <td>156301</td>\n",
       "      <td>680516</td>\n",
       "      <td>7461</td>\n",
       "      <td>3142.0</td>\n",
       "      <td>836817</td>\n",
       "    </tr>\n",
       "  </tbody>\n",
       "</table>\n",
       "</div>"
      ],
      "text/plain": [
       "     Original_Date   Fixed_Date  String Date  Year  Month  Day Full_Date  \\\n",
       "0  Tue Jul 28 2020  Jul 28 2020  Jul 28 2020  2020      7   28   7/28/20   \n",
       "1  Mon Jul 27 2020  Jul 27 2020  Jul 27 2020  2020      7   27   7/27/20   \n",
       "2  Sun Jul 26 2020  Jul 26 2020  Jul 26 2020  2020      7   26   7/26/20   \n",
       "3  Sat Jul 25 2020  Jul 25 2020  Jul 25 2020  2020      7   25   7/25/20   \n",
       "4  Fri Jul 24 2020  Jul 24 2020  Jul 24 2020  2020      7   24   7/24/20   \n",
       "\n",
       "     MNTH Month_Date_Format  New Tests   Cases  Negative  Hospitalized  \\\n",
       "0  202007            7/1/20      12598  165934    724997          9394   \n",
       "1  202007            7/1/20      11230  163827    714506          7751   \n",
       "2  202007            7/1/20       9494  162014    705089          7706   \n",
       "3  202007            7/1/20      20792  160041    697568          7627   \n",
       "4  202007            7/1/20      14104  156301    680516          7461   \n",
       "\n",
       "   Deaths   Total  \n",
       "0  3408.0  890931  \n",
       "1  3304.0  878333  \n",
       "2  3305.0  867103  \n",
       "3  3286.0  857609  \n",
       "4  3142.0  836817  "
      ]
     },
     "execution_count": 13,
     "metadata": {},
     "output_type": "execute_result"
    }
   ],
   "source": [
    "AZ.head()"
   ]
  },
  {
   "cell_type": "code",
   "execution_count": 14,
   "metadata": {},
   "outputs": [
    {
     "data": {
      "text/plain": [
       "Original_Date         object\n",
       "Fixed_Date            object\n",
       "String Date           object\n",
       "Year                   int64\n",
       "Month                  int64\n",
       "Day                    int64\n",
       "Full_Date             object\n",
       "MNTH                   int64\n",
       "Month_Date_Format     object\n",
       "New Tests              int64\n",
       "Cases                  int64\n",
       "Negative               int64\n",
       "Hospitalized           int64\n",
       "Deaths               float64\n",
       "Total                  int64\n",
       "dtype: object"
      ]
     },
     "execution_count": 14,
     "metadata": {},
     "output_type": "execute_result"
    }
   ],
   "source": [
    "AZ.dtypes"
   ]
  },
  {
   "cell_type": "code",
   "execution_count": 15,
   "metadata": {},
   "outputs": [],
   "source": [
    "AZ['Full_Date'] = pd.to_datetime(AZ['Full_Date'])\n",
    "AZ['Month_Date_Format'] = pd.to_datetime(AZ['Month_Date_Format'])"
   ]
  },
  {
   "cell_type": "code",
   "execution_count": 16,
   "metadata": {},
   "outputs": [
    {
     "data": {
      "text/html": [
       "<div>\n",
       "<style scoped>\n",
       "    .dataframe tbody tr th:only-of-type {\n",
       "        vertical-align: middle;\n",
       "    }\n",
       "\n",
       "    .dataframe tbody tr th {\n",
       "        vertical-align: top;\n",
       "    }\n",
       "\n",
       "    .dataframe thead th {\n",
       "        text-align: right;\n",
       "    }\n",
       "</style>\n",
       "<table border=\"1\" class=\"dataframe\">\n",
       "  <thead>\n",
       "    <tr style=\"text-align: right;\">\n",
       "      <th></th>\n",
       "      <th>Original_Date</th>\n",
       "      <th>Fixed_Date</th>\n",
       "      <th>String Date</th>\n",
       "      <th>Year</th>\n",
       "      <th>Month</th>\n",
       "      <th>Day</th>\n",
       "      <th>Full_Date</th>\n",
       "      <th>MNTH</th>\n",
       "      <th>Month_Date_Format</th>\n",
       "      <th>New Tests</th>\n",
       "      <th>Cases</th>\n",
       "      <th>Negative</th>\n",
       "      <th>Hospitalized</th>\n",
       "      <th>Deaths</th>\n",
       "      <th>Total</th>\n",
       "    </tr>\n",
       "  </thead>\n",
       "  <tbody>\n",
       "    <tr>\n",
       "      <th>0</th>\n",
       "      <td>Tue Jul 28 2020</td>\n",
       "      <td>Jul 28 2020</td>\n",
       "      <td>Jul 28 2020</td>\n",
       "      <td>2020</td>\n",
       "      <td>7</td>\n",
       "      <td>28</td>\n",
       "      <td>2020-07-28</td>\n",
       "      <td>202007</td>\n",
       "      <td>2020-07-01</td>\n",
       "      <td>12598</td>\n",
       "      <td>165934</td>\n",
       "      <td>724997</td>\n",
       "      <td>9394</td>\n",
       "      <td>3408.0</td>\n",
       "      <td>890931</td>\n",
       "    </tr>\n",
       "    <tr>\n",
       "      <th>1</th>\n",
       "      <td>Mon Jul 27 2020</td>\n",
       "      <td>Jul 27 2020</td>\n",
       "      <td>Jul 27 2020</td>\n",
       "      <td>2020</td>\n",
       "      <td>7</td>\n",
       "      <td>27</td>\n",
       "      <td>2020-07-27</td>\n",
       "      <td>202007</td>\n",
       "      <td>2020-07-01</td>\n",
       "      <td>11230</td>\n",
       "      <td>163827</td>\n",
       "      <td>714506</td>\n",
       "      <td>7751</td>\n",
       "      <td>3304.0</td>\n",
       "      <td>878333</td>\n",
       "    </tr>\n",
       "    <tr>\n",
       "      <th>2</th>\n",
       "      <td>Sun Jul 26 2020</td>\n",
       "      <td>Jul 26 2020</td>\n",
       "      <td>Jul 26 2020</td>\n",
       "      <td>2020</td>\n",
       "      <td>7</td>\n",
       "      <td>26</td>\n",
       "      <td>2020-07-26</td>\n",
       "      <td>202007</td>\n",
       "      <td>2020-07-01</td>\n",
       "      <td>9494</td>\n",
       "      <td>162014</td>\n",
       "      <td>705089</td>\n",
       "      <td>7706</td>\n",
       "      <td>3305.0</td>\n",
       "      <td>867103</td>\n",
       "    </tr>\n",
       "    <tr>\n",
       "      <th>3</th>\n",
       "      <td>Sat Jul 25 2020</td>\n",
       "      <td>Jul 25 2020</td>\n",
       "      <td>Jul 25 2020</td>\n",
       "      <td>2020</td>\n",
       "      <td>7</td>\n",
       "      <td>25</td>\n",
       "      <td>2020-07-25</td>\n",
       "      <td>202007</td>\n",
       "      <td>2020-07-01</td>\n",
       "      <td>20792</td>\n",
       "      <td>160041</td>\n",
       "      <td>697568</td>\n",
       "      <td>7627</td>\n",
       "      <td>3286.0</td>\n",
       "      <td>857609</td>\n",
       "    </tr>\n",
       "    <tr>\n",
       "      <th>4</th>\n",
       "      <td>Fri Jul 24 2020</td>\n",
       "      <td>Jul 24 2020</td>\n",
       "      <td>Jul 24 2020</td>\n",
       "      <td>2020</td>\n",
       "      <td>7</td>\n",
       "      <td>24</td>\n",
       "      <td>2020-07-24</td>\n",
       "      <td>202007</td>\n",
       "      <td>2020-07-01</td>\n",
       "      <td>14104</td>\n",
       "      <td>156301</td>\n",
       "      <td>680516</td>\n",
       "      <td>7461</td>\n",
       "      <td>3142.0</td>\n",
       "      <td>836817</td>\n",
       "    </tr>\n",
       "  </tbody>\n",
       "</table>\n",
       "</div>"
      ],
      "text/plain": [
       "     Original_Date   Fixed_Date  String Date  Year  Month  Day  Full_Date  \\\n",
       "0  Tue Jul 28 2020  Jul 28 2020  Jul 28 2020  2020      7   28 2020-07-28   \n",
       "1  Mon Jul 27 2020  Jul 27 2020  Jul 27 2020  2020      7   27 2020-07-27   \n",
       "2  Sun Jul 26 2020  Jul 26 2020  Jul 26 2020  2020      7   26 2020-07-26   \n",
       "3  Sat Jul 25 2020  Jul 25 2020  Jul 25 2020  2020      7   25 2020-07-25   \n",
       "4  Fri Jul 24 2020  Jul 24 2020  Jul 24 2020  2020      7   24 2020-07-24   \n",
       "\n",
       "     MNTH Month_Date_Format  New Tests   Cases  Negative  Hospitalized  \\\n",
       "0  202007        2020-07-01      12598  165934    724997          9394   \n",
       "1  202007        2020-07-01      11230  163827    714506          7751   \n",
       "2  202007        2020-07-01       9494  162014    705089          7706   \n",
       "3  202007        2020-07-01      20792  160041    697568          7627   \n",
       "4  202007        2020-07-01      14104  156301    680516          7461   \n",
       "\n",
       "   Deaths   Total  \n",
       "0  3408.0  890931  \n",
       "1  3304.0  878333  \n",
       "2  3305.0  867103  \n",
       "3  3286.0  857609  \n",
       "4  3142.0  836817  "
      ]
     },
     "execution_count": 16,
     "metadata": {},
     "output_type": "execute_result"
    }
   ],
   "source": [
    "AZ.head()"
   ]
  },
  {
   "cell_type": "code",
   "execution_count": 17,
   "metadata": {},
   "outputs": [
    {
     "name": "stdout",
     "output_type": "stream",
     "text": [
      "Original_Date\n",
      "Fixed_Date\n",
      "String Date\n",
      "Year\n",
      "Month\n",
      "Day\n",
      "Full_Date\n",
      "MNTH\n",
      "Month_Date_Format\n",
      "New Tests\n",
      "Cases\n",
      "Negative\n",
      "Hospitalized\n",
      "Deaths\n",
      "Total\n"
     ]
    }
   ],
   "source": [
    "for col in AZ:\n",
    "    print(col)"
   ]
  },
  {
   "cell_type": "code",
   "execution_count": 18,
   "metadata": {},
   "outputs": [
    {
     "name": "stdout",
     "output_type": "stream",
     "text": [
      "Date\n",
      "Fixed_Date\n",
      "String_Date\n",
      "Year\n",
      "Month\n",
      "Day\n",
      "Full_Date\n",
      "MNTH\n",
      "Month_Date_Format\n",
      "New Tests\n",
      "Cases\n",
      "Negative\n",
      "Hospitalized\n",
      "Deaths\n",
      "Total\n"
     ]
    }
   ],
   "source": [
    "for col in NY:\n",
    "    print (col)"
   ]
  },
  {
   "cell_type": "code",
   "execution_count": 19,
   "metadata": {},
   "outputs": [
    {
     "data": {
      "text/plain": [
       "<function matplotlib.pyplot.show(*args, **kw)>"
      ]
     },
     "execution_count": 19,
     "metadata": {},
     "output_type": "execute_result"
    },
    {
     "data": {
      "image/png": "[encoded data removed]",
      "text/plain": [
       "<Figure size 432x288 with 1 Axes>"
      ]
     },
     "metadata": {
      "needs_background": "light"
     },
     "output_type": "display_data"
    }
   ],
   "source": [
    "plt.plot(IL.Full_Date, IL.Cases/1000)\n",
    "plt.plot(IL.Full_Date,IL.Hospitalized)\n",
    "plt.plot(IL.Full_Date,IL.Deaths)\n",
    "plt.title(\"IL Covid Data\")\n",
    "plt.legend([\"Cases\", \"Hospitalized\", \"Deaths\"])\n",
    "plt.xlabel(\"Months\")\n",
    "plt.ylabel(\"Count(THSD)\")\n",
    "plt.show"
   ]
  },
  {
   "cell_type": "code",
   "execution_count": 20,
   "metadata": {},
   "outputs": [
    {
     "data": {
      "text/plain": [
       "<function matplotlib.pyplot.show(*args, **kw)>"
      ]
     },
     "execution_count": 20,
     "metadata": {},
     "output_type": "execute_result"
    },
    {
     "data": {
      "image/png": "[encoded data removed]",
      "text/plain": [
       "<Figure size 432x288 with 1 Axes>"
      ]
     },
     "metadata": {
      "needs_background": "light"
     },
     "output_type": "display_data"
    }
   ],
   "source": [
    "plt.plot(AZ.Full_Date, AZ.Cases/10000)\n",
    "plt.plot(AZ.Full_Date,AZ.Hospitalized)\n",
    "plt.plot(AZ.Full_Date,AZ.Deaths)\n",
    "plt.title(\"AZ Covid Data\")\n",
    "plt.legend([\"Cases\", \"Hospitalized\", \"Deaths\"])\n",
    "plt.xlabel(\"Months\")\n",
    "plt.ylabel(\"Count(THSD)\")\n",
    "plt.show"
   ]
  },
  {
   "cell_type": "code",
   "execution_count": 21,
   "metadata": {},
   "outputs": [
    {
     "data": {
      "text/plain": [
       "<function matplotlib.pyplot.show(*args, **kw)>"
      ]
     },
     "execution_count": 21,
     "metadata": {},
     "output_type": "execute_result"
    },
    {
     "data": {
      "image/png": "[encoded data removed]",
      "text/plain": [
       "<Figure size 432x288 with 1 Axes>"
      ]
     },
     "metadata": {
      "needs_background": "light"
     },
     "output_type": "display_data"
    }
   ],
   "source": [
    "plt.plot(NY.Full_Date, NY.Cases/10000)\n",
    "plt.plot(NY.Full_Date,NY.Hospitalized)\n",
    "plt.plot(NY.Full_Date,NY.Deaths)\n",
    "plt.title(\"NY Covid Data\")\n",
    "plt.legend([\"Cases\", \"Hospitalized\", \"Deaths\"])\n",
    "plt.xlabel(\"Months\")\n",
    "plt.ylabel(\"Count(THSD)\")\n",
    "plt.show"
   ]
  },
  {
   "cell_type": "code",
   "execution_count": 22,
   "metadata": {},
   "outputs": [
    {
     "data": {
      "text/plain": [
       "<function matplotlib.pyplot.show(*args, **kw)>"
      ]
     },
     "execution_count": 22,
     "metadata": {},
     "output_type": "execute_result"
    },
    {
     "data": {
      "image/png": "[encoded data removed]",
      "text/plain": [
       "<Figure size 432x288 with 1 Axes>"
      ]
     },
     "metadata": {
      "needs_background": "light"
     },
     "output_type": "display_data"
    }
   ],
   "source": [
    "plt.plot(AZ.Full_Date, AZ.Cases)\n",
    "plt.plot(NY.Full_Date,NY.Cases)\n",
    "plt.plot(IL.Full_Date,IL.Cases)\n",
    "plt.legend([\"New Cases in AZ\", \"New Cases in NY\", \"New Cases in IL\"])\n",
    "plt.xlabel(\"Months\")\n",
    "plt.ylabel(\"Patients Died\")\n",
    "plt.show"
   ]
  },
  {
   "cell_type": "code",
   "execution_count": 23,
   "metadata": {},
   "outputs": [
    {
     "data": {
      "text/plain": [
       "<function matplotlib.pyplot.show(*args, **kw)>"
      ]
     },
     "execution_count": 23,
     "metadata": {},
     "output_type": "execute_result"
    },
    {
     "data": {
      "image/png": "[encoded data removed]",
      "text/plain": [
       "<Figure size 432x288 with 1 Axes>"
      ]
     },
     "metadata": {
      "needs_background": "light"
     },
     "output_type": "display_data"
    }
   ],
   "source": [
    "plt.plot(AZ.Full_Date, AZ.Hospitalized)\n",
    "plt.plot(NY.Full_Date,NY.Hospitalized)\n",
    "plt.plot(IL.Full_Date,IL.Hospitalized)\n",
    "\n",
    "plt.legend([\"Hospitalized in AZ\", \"Hospitalized in NY\",\"Hospitalized in IL\"])\n",
    "plt.xlabel(\"Patients Hospitalized\")\n",
    "plt.ylabel(\"Patients Died\")\n",
    "plt.show"
   ]
  },
  {
   "cell_type": "code",
   "execution_count": 24,
   "metadata": {},
   "outputs": [
    {
     "data": {
      "text/plain": [
       "<function matplotlib.pyplot.show(*args, **kw)>"
      ]
     },
     "execution_count": 24,
     "metadata": {},
     "output_type": "execute_result"
    },
    {
     "data": {
      "image/png": "[encoded data removed]",
      "text/plain": [
       "<Figure size 432x288 with 1 Axes>"
      ]
     },
     "metadata": {
      "needs_background": "light"
     },
     "output_type": "display_data"
    }
   ],
   "source": [
    "plt.plot(AZ.Month, AZ.Deaths)\n",
    "plt.plot(NY.Month,NY.Deaths)\n",
    "plt.plot(IL.Month,IL.Deaths)\n",
    "\n",
    "plt.legend([\"Deaths in AZ\", \"Deaths in NY\",\"Deaths in IL\"])\n",
    "plt.xlabel(\"Patients Hospitalized\")\n",
    "plt.ylabel(\"Patients Died\")\n",
    "plt.show"
   ]
  },
  {
   "cell_type": "code",
   "execution_count": 25,
   "metadata": {},
   "outputs": [
    {
     "data": {
      "text/plain": [
       "<function matplotlib.pyplot.show(*args, **kw)>"
      ]
     },
     "execution_count": 25,
     "metadata": {},
     "output_type": "execute_result"
    },
    {
     "data": {
      "image/png": "[encoded data removed]",
      "text/plain": [
       "<Figure size 432x288 with 1 Axes>"
      ]
     },
     "metadata": {
      "needs_background": "light"
     },
     "output_type": "display_data"
    }
   ],
   "source": [
    "plt.plot(AZ.Hospitalized, AZ.Deaths)\n",
    "plt.plot(NY.Hospitalized,NY.Deaths)\n",
    "plt.plot(IL.Hospitalized,IL.Deaths)\n",
    "\n",
    "plt.legend([\"Deaths in AZ\", \"Deaths in NY\", \"Deaths in IL\"])\n",
    "plt.xlabel(\"Patients Hospitalized\")\n",
    "plt.ylabel(\"Patients Died\")\n",
    "\n",
    "plt.show"
   ]
  },
  {
   "cell_type": "code",
   "execution_count": 26,
   "metadata": {},
   "outputs": [
    {
     "data": {
      "text/plain": [
       "(2.084234946154866, 0.329597270586949, 0.24477147766416849)"
      ]
     },
     "execution_count": 26,
     "metadata": {},
     "output_type": "execute_result"
    }
   ],
   "source": [
    "IL_Avg_Death = IL[\"Deaths\"].mean()\n",
    "AZ_Avg_Death = AZ[\"Deaths\"].mean()\n",
    "NY_Avg_Death = NY[\"Deaths\"].mean()\n",
    "\n",
    "IL_Avg_Hospitalized = IL[\"Hospitalized\"].mean()\n",
    "AZ_Avg_Hospitalized = AZ[\"Hospitalized\"].mean()\n",
    "NY_Avg_Hospitalized = NY[\"Hospitalized\"].mean() \n",
    "\n",
    "IL_Avg_Death/IL_Avg_Hospitalized, AZ_Avg_Death/AZ_Avg_Hospitalized, NY_Avg_Death/NY_Avg_Hospitalized\n"
   ]
  },
  {
   "cell_type": "code",
   "execution_count": 27,
   "metadata": {},
   "outputs": [
    {
     "data": {
      "image/png": "[encoded data removed]",
      "text/plain": [
       "<Figure size 432x288 with 1 Axes>"
      ]
     },
     "metadata": {
      "needs_background": "light"
     },
     "output_type": "display_data"
    }
   ],
   "source": [
    "plt.scatter(IL.Month, IL.Cases/10**3, marker=\"o\", facecolors=\"lightcoral\", edgecolors=\"black\",\n",
    "         s= 750, alpha=.75, label=\"IL\")\n",
    "plt.scatter(AZ.Month, AZ.Cases/10**3, marker=\"x\", facecolors=\"skyblue\", edgecolors=\"black\",\n",
    "           s= 750, alpha=0.75, label=\"AZ\")\n",
    "plt.scatter(NY.Month, NY.Cases/10**3, marker=\"*\", facecolors=\"gold\", edgecolors=\"black\",\n",
    "           s= 750, alpha=0.75, label=\"NY\")\n",
    "\n",
    "plt.title(\"Deaths Per Month\")\n",
    "plt.ylabel(\"Deahts(/1000)\")\n",
    "plt.xlabel(\"Month (3-March, 4- April etc)\")\n",
    "plt.grid()\n",
    "\n",
    "legend = plt.legend(loc=\"upper left\", title= \"State\")\n",
    "legend.legendHandles[0]._sizes = [60]\n",
    "legend.legendHandles[1]._sizes = [60]\n",
    "legend.legendHandles[2]._sizes = [60]\n",
    "\n",
    "plt.savefig(\"Pyber Bubble Graph.png\",bbox_inches = \"tight\")\n",
    "plt.show()\n"
   ]
  },
  {
   "cell_type": "code",
   "execution_count": 28,
   "metadata": {},
   "outputs": [
    {
     "data": {
      "text/plain": [
       "(        Cases\n",
       " 0    175124.0\n",
       " 1    173731.0\n",
       " 2    172655.0\n",
       " 3    171424.0\n",
       " 4    169883.0\n",
       " ..        ...\n",
       " 135       NaN\n",
       " 136       NaN\n",
       " 137       NaN\n",
       " 138       NaN\n",
       " 139       NaN\n",
       " \n",
       " [140 rows x 1 columns],\n",
       "       Cases\n",
       " 0    165934\n",
       " 1    163827\n",
       " 2    162014\n",
       " 3    160041\n",
       " 4    156301\n",
       " ..      ...\n",
       " 142       5\n",
       " 143       5\n",
       " 144       3\n",
       " 145       2\n",
       " 146       2\n",
       " \n",
       " [147 rows x 1 columns],\n",
       "       Cases\n",
       " 0    412878\n",
       " 1    412344\n",
       " 2    411736\n",
       " 3    411200\n",
       " 4    410450\n",
       " ..      ...\n",
       " 142     105\n",
       " 143      76\n",
       " 144      33\n",
       " 145      22\n",
       " 146       6\n",
       " \n",
       " [147 rows x 1 columns])"
      ]
     },
     "execution_count": 28,
     "metadata": {},
     "output_type": "execute_result"
    }
   ],
   "source": [
    "IL_df = pd.DataFrame(IL,columns = ['Cases'])\n",
    "AZ_df = pd.DataFrame(AZ,columns = ['Cases'])\n",
    "NY_df = pd.DataFrame(NY,columns = ['Cases'])\n",
    "\n",
    "IL_df, AZ_df, NY_df "
   ]
  },
  {
   "cell_type": "code",
   "execution_count": 29,
   "metadata": {},
   "outputs": [
    {
     "data": {
      "text/plain": [
       "array([[<matplotlib.axes._subplots.AxesSubplot object at 0x1a1f0bae50>]],\n",
       "      dtype=object)"
      ]
     },
     "execution_count": 29,
     "metadata": {},
     "output_type": "execute_result"
    },
    {
     "data": {
      "image/png": "[encoded data removed]",
      "text/plain": [
       "<Figure size 432x288 with 1 Axes>"
      ]
     },
     "metadata": {
      "needs_background": "light"
     },
     "output_type": "display_data"
    }
   ],
   "source": [
    "AZ_df.hist(column='Cases')"
   ]
  },
  {
   "cell_type": "code",
   "execution_count": 30,
   "metadata": {},
   "outputs": [
    {
     "data": {
      "text/plain": [
       "array([[<matplotlib.axes._subplots.AxesSubplot object at 0x1a1f347550>]],\n",
       "      dtype=object)"
      ]
     },
     "execution_count": 30,
     "metadata": {},
     "output_type": "execute_result"
    },
    {
     "data": {
      "image/png": "[encoded data removed]",
      "text/plain": [
       "<Figure size 432x288 with 1 Axes>"
      ]
     },
     "metadata": {
      "needs_background": "light"
     },
     "output_type": "display_data"
    }
   ],
   "source": [
    "IL_df.hist(column='Cases')"
   ]
  },
  {
   "cell_type": "code",
   "execution_count": 31,
   "metadata": {},
   "outputs": [
    {
     "data": {
      "text/plain": [
       "array([[<matplotlib.axes._subplots.AxesSubplot object at 0x1a1f442190>]],\n",
       "      dtype=object)"
      ]
     },
     "execution_count": 31,
     "metadata": {},
     "output_type": "execute_result"
    },
    {
     "data": {
      "image/png": "[encoded data removed]",
      "text/plain": [
       "<Figure size 432x288 with 1 Axes>"
      ]
     },
     "metadata": {
      "needs_background": "light"
     },
     "output_type": "display_data"
    }
   ],
   "source": [
    "NY_df.hist(column='Cases')"
   ]
  },
  {
   "cell_type": "code",
   "execution_count": 32,
   "metadata": {},
   "outputs": [
    {
     "data": {
      "text/plain": [
       "(Cases    124924.423913\n",
       " dtype: float64,\n",
       " Cases    36973.578231\n",
       " dtype: float64,\n",
       " Cases    273434.163265\n",
       " dtype: float64)"
      ]
     },
     "execution_count": 32,
     "metadata": {},
     "output_type": "execute_result"
    }
   ],
   "source": [
    "IL_df.mean(),AZ_df.mean(),NY_df.mean()"
   ]
  },
  {
   "cell_type": "code",
   "execution_count": 33,
   "metadata": {},
   "outputs": [
    {
     "data": {
      "text/plain": [
       "(Cases    50355.0\n",
       " dtype: float64,\n",
       " Cases    175124.0\n",
       " dtype: float64)"
      ]
     },
     "execution_count": 33,
     "metadata": {},
     "output_type": "execute_result"
    }
   ],
   "source": [
    "IL_df.min(),IL_df.max()"
   ]
  },
  {
   "cell_type": "code",
   "execution_count": 34,
   "metadata": {},
   "outputs": [
    {
     "data": {
      "text/plain": [
       "(Cases    2\n",
       " dtype: int64,\n",
       " Cases    165934\n",
       " dtype: int64)"
      ]
     },
     "execution_count": 34,
     "metadata": {},
     "output_type": "execute_result"
    }
   ],
   "source": [
    "AZ_df.min(),AZ_df.max()"
   ]
  },
  {
   "cell_type": "code",
   "execution_count": 35,
   "metadata": {},
   "outputs": [
    {
     "data": {
      "text/plain": [
       "(Cases    6\n",
       " dtype: int64,\n",
       " Cases    412878\n",
       " dtype: int64)"
      ]
     },
     "execution_count": 35,
     "metadata": {},
     "output_type": "execute_result"
    }
   ],
   "source": [
    "NY_df.min(),NY_df.max()"
   ]
  },
  {
   "cell_type": "code",
   "execution_count": 37,
   "metadata": {},
   "outputs": [
    {
     "data": {
      "text/plain": [
       "<function matplotlib.pyplot.show(*args, **kw)>"
      ]
     },
     "execution_count": 37,
     "metadata": {},
     "output_type": "execute_result"
    },
    {
     "data": {
      "image/png": "[encoded data removed]",
      "text/plain": [
       "<Figure size 432x288 with 1 Axes>"
      ]
     },
     "metadata": {
      "needs_background": "light"
     },
     "output_type": "display_data"
    }
   ],
   "source": [
    "plt.plot(AZ.Full_Date, AZ.Total/10000)\n",
    "plt.plot(IL.Full_Date,IL.Total/10000)\n",
    "plt.plot(NY.Full_Date,NY.Total/10000)\n",
    "plt.title(\"Summary Covid Data\")\n",
    "plt.legend([\"AZ\", \"IL\", \"NY\"])\n",
    "plt.xlabel(\"Months\")\n",
    "plt.ylabel(\"Total(THSD)\")\n",
    "plt.show"
   ]
  },
  {
   "cell_type": "code",
   "execution_count": null,
   "metadata": {},
   "outputs": [],
   "source": []
  },
  {
   "cell_type": "code",
   "execution_count": null,
   "metadata": {},
   "outputs": [],
   "source": []
  }
 ],
 "metadata": {
  "kernelspec": {
   "display_name": "Python 3",
   "language": "python",
   "name": "python3"
  },
  "language_info": {
   "codemirror_mode": {
    "name": "ipython",
    "version": 3
   },
   "file_extension": ".py",
   "mimetype": "text/x-python",
   "name": "python",
   "nbconvert_exporter": "python",
   "pygments_lexer": "ipython3",
   "version": "3.7.6"
  }
 },
 "nbformat": 4,
 "nbformat_minor": 4
}
